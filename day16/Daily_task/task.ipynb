{
 "cells": [
  {
   "cell_type": "code",
   "execution_count": 4,
   "id": "43e24f1f-1b81-4c9e-af21-5e74893a0a0d",
   "metadata": {},
   "outputs": [
    {
     "data": {
      "text/plain": [
       "5.0"
      ]
     },
     "execution_count": 4,
     "metadata": {},
     "output_type": "execute_result"
    }
   ],
   "source": [
    "1.      # Print the shape of a 2-D array\n",
    "2.       #Create an array with 5 dimensions using ndmin using a vector with values 1,2,3,4 and verify that last dimension has value 4\n",
    "3.       # Convert the following 1-D array with 12 elements into a 2-D array. The outermost dimension will have 4 arrays, each with 3 elements:\n",
    "4.       # Convert the following 1-D array with 12 elements into a 3-D array. The outermost dimension will have 2 arrays that contains 3 arrays, each with 2 elements\n",
    "5.       # Check if the returned array is a copy or a view\n"
   ]
  },
  {
   "cell_type": "code",
   "execution_count": 5,
   "id": "2306dc82-a3e8-43f4-b769-cfe4523cfa00",
   "metadata": {},
   "outputs": [],
   "source": [
    "import numpy as np "
   ]
  },
  {
   "cell_type": "code",
   "execution_count": 12,
   "id": "5dfc569c-ffad-40ae-bdad-69de37d6cd0d",
   "metadata": {},
   "outputs": [
    {
     "name": "stdout",
     "output_type": "stream",
     "text": [
      "Shape of the array is: (2, 3)\n"
     ]
    }
   ],
   "source": [
    "# Create a 2-D array\n",
    "array_2d = np.array([[1, 2, 3], [4, 5, 6]])\n",
    "# Print the shape of the 2-D array\n",
    "print(\"Shape of the array is:\",array_2d.shape)"
   ]
  },
  {
   "cell_type": "code",
   "execution_count": 13,
   "id": "62e59132-cfd7-47dd-a0eb-b828048ce794",
   "metadata": {},
   "outputs": [
    {
     "name": "stdout",
     "output_type": "stream",
     "text": [
      "Array with 5 dimensions:\n",
      " [[[[[1 2 3 4]]]]]\n",
      "Last dimension size: 4\n"
     ]
    }
   ],
   "source": [
    "# Create an array with 5 dimensions\n",
    "array_5d = np.array([1, 2, 3, 4], ndmin=5)\n",
    "# Print the array \n",
    "print(\"Array with 5 dimensions:\\n\", array_5d)\n",
    "# Verify that the last dimension has value 4\n",
    "print(\"Last dimension size:\", array_5d.shape[-1])"
   ]
  },
  {
   "cell_type": "code",
   "execution_count": 9,
   "id": "1a89596d-7aa3-4fc2-abbc-fd3016e6c074",
   "metadata": {},
   "outputs": [
    {
     "name": "stdout",
     "output_type": "stream",
     "text": [
      "Reshaped 2-D array:\n",
      " [[ 1  2  3]\n",
      " [ 4  5  6]\n",
      " [ 7  8  9]\n",
      " [10 11 12]]\n"
     ]
    }
   ],
   "source": [
    "# Create a 1-D array with 12 elements\n",
    "array_1d = np.array([1, 2, 3, 4, 5, 6, 7, 8, 9, 10, 11, 12])\n",
    "# Reshape the array into a 2-D array with 4 arrays, each with 3 elements\n",
    "array_2d = array_1d.reshape(4, 3)\n",
    "# Print the reshaped array\n",
    "print(\"Reshaped 2-D array:\\n\", array_2d)"
   ]
  },
  {
   "cell_type": "code",
   "execution_count": 10,
   "id": "44d185d5-0128-4376-a0a8-87acf8d0b38c",
   "metadata": {},
   "outputs": [
    {
     "name": "stdout",
     "output_type": "stream",
     "text": [
      "Reshaped 3-D array:\n",
      " [[[ 1  2]\n",
      "  [ 3  4]\n",
      "  [ 5  6]]\n",
      "\n",
      " [[ 7  8]\n",
      "  [ 9 10]\n",
      "  [11 12]]]\n"
     ]
    }
   ],
   "source": [
    "# Create a 1-D array with 12 elements\n",
    "array_1d = np.array([1, 2, 3, 4, 5, 6, 7, 8, 9, 10, 11, 12])\n",
    "# Reshape the array into a 3-D array \n",
    "# each containing 3 arrays of 2 elements\n",
    "array_3d = array_1d.reshape(2, 3, 2)\n",
    "# Print the reshaped array\n",
    "print(\"Reshaped 3-D array:\\n\", array_3d)"
   ]
  },
  {
   "cell_type": "code",
   "execution_count": 16,
   "id": "73667658-6f03-4c04-9098-ec6d080e7885",
   "metadata": {},
   "outputs": [
    {
     "name": "stdout",
     "output_type": "stream",
     "text": [
      "The orginal or 1D array is :  [ 1  2  3  4  5  6  7  8  9 10 11 12]\n",
      "Is the reshaped array a view?  True\n",
      "The view array is :  [[ 1  2  3]\n",
      " [ 4  5  6]\n",
      " [ 7  8  9]\n",
      " [10 11 12]]\n",
      "Is the reshaped array a copy?  False\n",
      "The view array is :  [[ 1  2  3]\n",
      " [ 4  5  6]\n",
      " [ 7  8  9]\n",
      " [10 11 12]]\n"
     ]
    }
   ],
   "source": [
    "# Create a 1-D array with 12 elements\n",
    "print(\"The orginal or 1D array is : \",array_1d)\n",
    "array_view = array_1d.reshape(4, 3)\n",
    "array_copy = array_1d.reshape(4, 3).copy()\n",
    "print(\"Is the reshaped array a view? \", array_view.base is array_1d)\n",
    "print(\"The view array is : \",array_view)\n",
    "print(\"Is the reshaped array a copy? \", array_copy.base is array_1d)\n",
    "print(\"The view array is : \",array_copy)"
   ]
  },
  {
   "cell_type": "code",
   "execution_count": null,
   "id": "4010f14f-1885-43b9-80e6-e994212416b3",
   "metadata": {},
   "outputs": [],
   "source": []
  }
 ],
 "metadata": {
  "kernelspec": {
   "display_name": "Python 3 (ipykernel)",
   "language": "python",
   "name": "python3"
  },
  "language_info": {
   "codemirror_mode": {
    "name": "ipython",
    "version": 3
   },
   "file_extension": ".py",
   "mimetype": "text/x-python",
   "name": "python",
   "nbconvert_exporter": "python",
   "pygments_lexer": "ipython3",
   "version": "3.11.5"
  }
 },
 "nbformat": 4,
 "nbformat_minor": 5
}
