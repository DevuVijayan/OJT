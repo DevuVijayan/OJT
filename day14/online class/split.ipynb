{
 "cells": [
  {
   "cell_type": "code",
   "execution_count": 3,
   "id": "7d45aee5-5794-423b-a873-81ddd23b3ccf",
   "metadata": {},
   "outputs": [
    {
     "name": "stdout",
     "output_type": "stream",
     "text": [
      "orginal array:  [1 2 3 4 5 6 7 8 9]\n",
      "split array: [array([1, 2, 3]), array([4, 5, 6]), array([7, 8, 9])]\n"
     ]
    }
   ],
   "source": [
    "import numpy as np\n",
    "#split will work in numpy\n",
    "array = np.array([1,2,3,4,5,6,7,8,9])\n",
    "split_array= np.split(array, 3)\n",
    "print(\"orginal array: \",array)\n",
    "print(\"split array:\", split_array)\n"
   ]
  },
  {
   "cell_type": "code",
   "execution_count": 5,
   "id": "1fad19d4-7dab-494b-9628-794520207ef3",
   "metadata": {},
   "outputs": [
    {
     "name": "stdout",
     "output_type": "stream",
     "text": [
      "vsplited array: [array([[1, 2, 3],\n",
      "       [4, 5, 6]]), array([[ 7,  8,  9],\n",
      "       [10, 11, 12]])]\n"
     ]
    }
   ],
   "source": [
    "#multi dim\n",
    "#horizontaly and vertically\n",
    "array_2d = np.array([[1,2,3],[4,5,6],[7,8,9],[10,11,12]])\n",
    "vsplit_array = np.vsplit(array_2d,2)\n",
    "print(\"vsplited array:\",vsplit_array)"
   ]
  },
  {
   "cell_type": "code",
   "execution_count": 8,
   "id": "f6cc4774-7e86-43ae-89f1-10ee7d0fbddc",
   "metadata": {},
   "outputs": [
    {
     "name": "stdout",
     "output_type": "stream",
     "text": [
      "vsplited array: [array([[1, 2],\n",
      "       [4, 5]]), array([[3, 8],\n",
      "       [6, 9]])]\n"
     ]
    }
   ],
   "source": [
    "#horizontal\n",
    "array_2d = np.array([[1,2,3,8],[4,5,6,9]])\n",
    "vsplit_array = np.hsplit(array_2d,2)\n",
    "print(\"vsplited array:\",vsplit_array)"
   ]
  },
  {
   "cell_type": "code",
   "execution_count": null,
   "id": "12e23474-2b13-4035-8a00-71f0cb41ffdb",
   "metadata": {},
   "outputs": [],
   "source": []
  }
 ],
 "metadata": {
  "kernelspec": {
   "display_name": "Python 3 (ipykernel)",
   "language": "python",
   "name": "python3"
  },
  "language_info": {
   "codemirror_mode": {
    "name": "ipython",
    "version": 3
   },
   "file_extension": ".py",
   "mimetype": "text/x-python",
   "name": "python",
   "nbconvert_exporter": "python",
   "pygments_lexer": "ipython3",
   "version": "3.11.5"
  }
 },
 "nbformat": 4,
 "nbformat_minor": 5
}
