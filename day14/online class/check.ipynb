{
 "cells": [
  {
   "cell_type": "code",
   "execution_count": 5,
   "id": "aca84090-c5f1-4d53-8923-535086170355",
   "metadata": {},
   "outputs": [
    {
     "name": "stdout",
     "output_type": "stream",
     "text": [
      "[10  0 12 15 14  0]\n"
     ]
    }
   ],
   "source": [
    "import numpy as np \n",
    "array = np.array([10,20,12,15,14,17])\n",
    "#np.where(array == 20)\n",
    "#where():use to check the particular condion for filters and condition\n",
    "#element greater than 15 for the above array\n",
    "elements= np.where(array>15, 0, array)\n",
    "print(elements)\n",
    "#print(array[elements])"
   ]
  },
  {
   "cell_type": "code",
   "execution_count": null,
   "id": "8d018afe-b7f1-4501-9ad7-49e456f5146d",
   "metadata": {},
   "outputs": [],
   "source": []
  }
 ],
 "metadata": {
  "kernelspec": {
   "display_name": "Python 3 (ipykernel)",
   "language": "python",
   "name": "python3"
  },
  "language_info": {
   "codemirror_mode": {
    "name": "ipython",
    "version": 3
   },
   "file_extension": ".py",
   "mimetype": "text/x-python",
   "name": "python",
   "nbconvert_exporter": "python",
   "pygments_lexer": "ipython3",
   "version": "3.11.5"
  }
 },
 "nbformat": 4,
 "nbformat_minor": 5
}
