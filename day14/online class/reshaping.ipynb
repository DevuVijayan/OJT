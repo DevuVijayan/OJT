{
 "cells": [
  {
   "cell_type": "code",
   "execution_count": 1,
   "id": "0e2c7c44-58a3-4047-9867-dc2d9f372af4",
   "metadata": {},
   "outputs": [],
   "source": [
    "#converting one d into 2d\n",
    "#.reshape() is the method which is used for reshaping the array\n"
   ]
  },
  {
   "cell_type": "code",
   "execution_count": 2,
   "id": "13a0d13d-557c-4ed0-a6f9-3cf5ade784d4",
   "metadata": {},
   "outputs": [],
   "source": [
    "import numpy as np"
   ]
  },
  {
   "cell_type": "code",
   "execution_count": 3,
   "id": "c7d33405-0f33-45e0-b412-aa391adabead",
   "metadata": {},
   "outputs": [
    {
     "name": "stdout",
     "output_type": "stream",
     "text": [
      "array1D: [1 2 3 4 5 6]\n",
      "shape is (6,)\n"
     ]
    }
   ],
   "source": [
    "#create a 1D array\n",
    "array_1D = np.array([1,2,3,4,5,6])\n",
    "print (\"array1D:\",array_1D)\n",
    "print (\"shape is\",array_1D.shape)"
   ]
  },
  {
   "cell_type": "code",
   "execution_count": 4,
   "id": "355cf14a-034a-4507-bbcd-d657cc5387ab",
   "metadata": {},
   "outputs": [
    {
     "name": "stdout",
     "output_type": "stream",
     "text": [
      " 2d array : [[1 2 3]\n",
      " [4 5 6]]\n",
      "shape of array_2D (2, 3)\n"
     ]
    }
   ],
   "source": [
    "#reshape the 1D array to 2D array\n",
    "array_2D = array_1D.reshape((2,3))\n",
    "print(\" 2d array :\",array_2D)\n",
    "print(\"shape of array_2D\",array_2D.shape)"
   ]
  },
  {
   "cell_type": "code",
   "execution_count": 7,
   "id": "3fa44799-b7ff-4c64-be4c-2ef13fb27db4",
   "metadata": {},
   "outputs": [
    {
     "name": "stdout",
     "output_type": "stream",
     "text": [
      "3d array is: [[1 2]\n",
      " [3 4]\n",
      " [5 6]]\n",
      "shape of array_3D (3, 2)\n"
     ]
    }
   ],
   "source": [
    "#reshape the 1D array into 3D array\n",
    "array_3D = array_1D.reshape((3,2))\n",
    "print(\"3d array is:\",array_3D)\n",
    "print(\"shape of array_3D\",array_3D.shape)"
   ]
  },
  {
   "cell_type": "code",
   "execution_count": 9,
   "id": "abef5ed8-ebfa-4f4a-a193-cdd7d8fbec18",
   "metadata": {},
   "outputs": [
    {
     "name": "stdout",
     "output_type": "stream",
     "text": [
      "array_1D_back [1 2 3 4 5 6]\n",
      "shape of array_1D_back (6,)\n"
     ]
    }
   ],
   "source": [
    "#reshape back a 2d array to 1D\n",
    "array_1D_back = array_2D.reshape(-1)\n",
    "print(\"array_1D_back\",array_1D_back)\n",
    "print(\"shape of array_1D_back\",array_1D_back.shape)"
   ]
  }
 ],
 "metadata": {
  "kernelspec": {
   "display_name": "Python 3 (ipykernel)",
   "language": "python",
   "name": "python3"
  },
  "language_info": {
   "codemirror_mode": {
    "name": "ipython",
    "version": 3
   },
   "file_extension": ".py",
   "mimetype": "text/x-python",
   "name": "python",
   "nbconvert_exporter": "python",
   "pygments_lexer": "ipython3",
   "version": "3.11.5"
  }
 },
 "nbformat": 4,
 "nbformat_minor": 5
}
