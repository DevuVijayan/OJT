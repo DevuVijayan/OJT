{
 "cells": [
  {
   "cell_type": "code",
   "execution_count": 5,
   "id": "6e7810d1-13cc-4d5d-985b-468ed210ad17",
   "metadata": {},
   "outputs": [
    {
     "name": "stdout",
     "output_type": "stream",
     "text": [
      "Array_1d : [1 2 3 4 5 6]\n",
      "1\n",
      "2\n",
      "3\n",
      "4\n",
      "5\n",
      "6\n"
     ]
    }
   ],
   "source": [
    "# iterations\n",
    "import numpy as np\n",
    "#1d array\n",
    "array_1d=np.array([1,2,3,4,5,6])\n",
    "#iterate the elements in this array\n",
    "print(\"Array_1d :\",array_1d)\n",
    "for elements in array_1d:\n",
    "    print(elements)"
   ]
  },
  {
   "cell_type": "code",
   "execution_count": 7,
   "id": "51993bdd-fa55-46fa-a7f2-4619a491a5e4",
   "metadata": {},
   "outputs": [
    {
     "name": "stdout",
     "output_type": "stream",
     "text": [
      "2d array is [[1 2 3]\n",
      " [4 5 6]\n",
      " [7 8 9]]\n",
      "[1 2 3]\n",
      "[4 5 6]\n",
      "[7 8 9]\n"
     ]
    }
   ],
   "source": [
    "array_2d= np.array([[1,2,3,],[4,5,6],[7,8,9]])\n",
    "print(\"2d array is\",array_2d)\n",
    "#iterate 2d array\n",
    "for elements in array_2d:\n",
    "    print(elements)"
   ]
  },
  {
   "cell_type": "code",
   "execution_count": 8,
   "id": "3958cada-8c89-4bf4-b804-e02490afa7c6",
   "metadata": {},
   "outputs": [
    {
     "name": "stdout",
     "output_type": "stream",
     "text": [
      "2d array is [[1 2 3]\n",
      " [4 5 6]\n",
      " [7 8 9]]\n",
      "[1 2 3]\n",
      "1\n",
      "2\n",
      "3\n",
      "[4 5 6]\n",
      "4\n",
      "5\n",
      "6\n",
      "[7 8 9]\n",
      "7\n",
      "8\n",
      "9\n"
     ]
    }
   ],
   "source": [
    "# how we can arrange into sepperate \n",
    "array_2d= np.array([[1,2,3,],[4,5,6],[7,8,9]])\n",
    "print(\"2d array is\",array_2d)\n",
    "#iterate 2d array\n",
    "for rows in array_2d:\n",
    "    print(rows)\n",
    "    for elements in rows:\n",
    "        print(elements)\n",
    "        \n",
    "    "
   ]
  },
  {
   "cell_type": "code",
   "execution_count": 10,
   "id": "042c657c-8dbe-46b0-822e-3baf9c54bf6a",
   "metadata": {},
   "outputs": [
    {
     "name": "stdout",
     "output_type": "stream",
     "text": [
      "2d array is [[1 2 3]\n",
      " [4 5 6]\n",
      " [7 8 9]]\n",
      "1\n",
      "2\n",
      "3\n",
      "4\n",
      "5\n",
      "6\n",
      "7\n",
      "8\n",
      "9\n"
     ]
    }
   ],
   "source": [
    "array_2d= np.array([[1,2,3,],[4,5,6],[7,8,9]])\n",
    "print(\"2d array is\",array_2d)\n",
    "for elements in np.nditer(array_2d):\n",
    "    print (elements)"
   ]
  },
  {
   "cell_type": "code",
   "execution_count": 15,
   "id": "20147705-beda-434e-a8be-c7aa7404df84",
   "metadata": {},
   "outputs": [
    {
     "name": "stdout",
     "output_type": "stream",
     "text": [
      "Index: (0, 0), element: 1\n",
      "Index: (0, 1), element: 2\n",
      "Index: (0, 2), element: 3\n",
      "Index: (1, 0), element: 4\n",
      "Index: (1, 1), element: 5\n",
      "Index: (1, 2), element: 6\n",
      "Index: (2, 0), element: 7\n",
      "Index: (2, 1), element: 8\n",
      "Index: (2, 2), element: 9\n"
     ]
    }
   ],
   "source": [
    "#iterate the elements with index\n",
    "array_2d= np.array([[1,2,3],[4,5,6],[7,8,9]])\n",
    "for index , elements in np.ndenumerate(array_2d):\n",
    "    print(f\"Index: {index}, element: {elements}\")"
   ]
  },
  {
   "cell_type": "code",
   "execution_count": null,
   "id": "0fee3dfb-d5a4-4d7b-8e14-783bbb8a79b1",
   "metadata": {},
   "outputs": [],
   "source": []
  }
 ],
 "metadata": {
  "kernelspec": {
   "display_name": "Python 3 (ipykernel)",
   "language": "python",
   "name": "python3"
  },
  "language_info": {
   "codemirror_mode": {
    "name": "ipython",
    "version": 3
   },
   "file_extension": ".py",
   "mimetype": "text/x-python",
   "name": "python",
   "nbconvert_exporter": "python",
   "pygments_lexer": "ipython3",
   "version": "3.11.5"
  }
 },
 "nbformat": 4,
 "nbformat_minor": 5
}
