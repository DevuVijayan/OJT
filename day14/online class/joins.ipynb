{
 "cells": [
  {
   "cell_type": "code",
   "execution_count": 1,
   "id": "eeb51b0d-a5b1-4219-95f9-83e2c6e04e37",
   "metadata": {},
   "outputs": [
    {
     "name": "stdout",
     "output_type": "stream",
     "text": [
      "concat_array :  [1 2 3 4 5 6]\n"
     ]
    }
   ],
   "source": [
    "import numpy as np\n",
    "array1 = np.array([1,2,3])\n",
    "array2 = np.array([4,5,6])\n",
    "concat_array=np.concatenate((array1,array2))\n",
    "print(\"concat_array : \", concat_array)"
   ]
  },
  {
   "cell_type": "code",
   "execution_count": 2,
   "id": "64224367-f8cd-4f48-820c-8a81df59b4b6",
   "metadata": {},
   "outputs": [],
   "source": [
    "\n",
    "#create a multidimenstional\n",
    "array2d_1 = np.array([[1,2,3],[4,5,6]])\n",
    "array2d_2 = np.array([[7,8,9],[10,11,12]])\n",
    "\n",
    "#vertically and horizontally\n"
   ]
  },
  {
   "cell_type": "code",
   "execution_count": 8,
   "id": "ad209031-307a-4d04-bf13-81ceef416d82",
   "metadata": {},
   "outputs": [
    {
     "name": "stdout",
     "output_type": "stream",
     "text": [
      "vertically stacked array is: [[ 1  2  3]\n",
      " [ 4  5  6]\n",
      " [ 7  8  9]\n",
      " [10 11 12]\n",
      " [13 14 15]]\n"
     ]
    }
   ],
   "source": [
    "#vertically\n",
    "vstack_array = np.vstack((array2d_1,array2d_2))\n",
    "print(\"vertically stacked array is:\",vstack_array)\n"
   ]
  },
  {
   "cell_type": "code",
   "execution_count": 10,
   "id": "84538382-cc8d-4563-8a2d-f9f76cddfe2c",
   "metadata": {},
   "outputs": [
    {
     "name": "stdout",
     "output_type": "stream",
     "text": [
      "horizontaly: [[ 1  2  3  7  8  9]\n",
      " [ 4  5  6 10 11 12]]\n"
     ]
    }
   ],
   "source": [
    "#horizontally\n",
    "array2d_1 = np.array([[1,2,3],[4,5,6]])\n",
    "array2d_2 = np.array([[7,8,9],[10,11,12]])\n",
    "hstack_array = np.hstack((array2d_1,array2d_2))\n",
    "print(\"horizontaly:\", hstack_array)\n"
   ]
  },
  {
   "cell_type": "code",
   "execution_count": null,
   "id": "a1964e61-0411-498f-b6e0-27f0f2ab5d9b",
   "metadata": {},
   "outputs": [],
   "source": []
  }
 ],
 "metadata": {
  "kernelspec": {
   "display_name": "Python 3 (ipykernel)",
   "language": "python",
   "name": "python3"
  },
  "language_info": {
   "codemirror_mode": {
    "name": "ipython",
    "version": 3
   },
   "file_extension": ".py",
   "mimetype": "text/x-python",
   "name": "python",
   "nbconvert_exporter": "python",
   "pygments_lexer": "ipython3",
   "version": "3.11.5"
  }
 },
 "nbformat": 4,
 "nbformat_minor": 5
}
