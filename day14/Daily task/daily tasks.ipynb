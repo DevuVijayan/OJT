{
 "cells": [
  {
   "cell_type": "code",
   "execution_count": 1,
   "id": "a8d01ad9",
   "metadata": {},
   "outputs": [
    {
     "name": "stdout",
     "output_type": "stream",
     "text": [
      "The data type of the array is: int32\n",
      "The data type of the string array is: <U6\n"
     ]
    }
   ],
   "source": [
    "#Get the data type of an array object & Get the data type of an array containing strings\n",
    "\n",
    "\n",
    "import numpy as np\n",
    "\n",
    "array = np.array([1, 2, 3, 4, 5])\n",
    "string_array = np.array([\"apple\", \"banana\", \"cherry\"])\n",
    "\n",
    "array_dtype = array.dtype\n",
    "string_array_dtype = string_array.dtype\n",
    "\n",
    "print(f\"The data type of the array is: {array_dtype}\")\n",
    "print(f\"The data type of the string array is: {string_array_dtype}\")\n"
   ]
  },
  {
   "cell_type": "code",
   "execution_count": 2,
   "id": "d3949dfb",
   "metadata": {},
   "outputs": [
    {
     "name": "stdout",
     "output_type": "stream",
     "text": [
      "Original integer array: [1 0 2 0 3]\n",
      "Converted boolean array: [ True False  True False  True]\n",
      "Data type of converted array: bool\n"
     ]
    }
   ],
   "source": [
    "#Change data type from integer to boolean\n",
    "\n",
    "import numpy as np\n",
    "\n",
    "int_array = np.array([1, 0, 2, 0, 3])\n",
    "bool_array = int_array.astype(bool)\n",
    "\n",
    "print(\"Original integer array:\", int_array)\n",
    "print(\"Converted boolean array:\", bool_array)\n",
    "print(\"Data type of converted array:\", bool_array.dtype)\n",
    "\n"
   ]
  },
  {
   "cell_type": "code",
   "execution_count": 3,
   "id": "10fb605d",
   "metadata": {},
   "outputs": [
    {
     "name": "stdout",
     "output_type": "stream",
     "text": [
      "Original float array: [1.5 2.3 3.7 4.1 5.9]\n",
      "Converted integer array: [1 2 3 4 5]\n",
      "Data type of converted array: int32\n"
     ]
    }
   ],
   "source": [
    " #Change data type from float to integer by using 'int' as parameter value\n",
    "\n",
    "import numpy as np\n",
    "\n",
    "float_array = np.array([1.5, 2.3, 3.7, 4.1, 5.9])\n",
    "int_array = float_array.astype(int)\n",
    "\n",
    "print(\"Original float array:\", float_array)\n",
    "print(\"Converted integer array:\", int_array)\n",
    "print(\"Data type of converted array:\", int_array.dtype)\n",
    "\n",
    "\n"
   ]
  },
  {
   "cell_type": "code",
   "execution_count": 4,
   "id": "e9e09728",
   "metadata": {},
   "outputs": [
    {
     "name": "stdout",
     "output_type": "stream",
     "text": [
      "Original float array: [1.5 2.3 3.7 4.1 5.9]\n",
      "Converted integer array: [1 2 3 4 5]\n",
      "Data type of converted array: int32\n"
     ]
    }
   ],
   "source": [
    " #Change data type from float to integer by using 'i' as parameter value\n",
    "\n",
    "import numpy as np\n",
    "\n",
    "float_array = np.array([1.5, 2.3, 3.7, 4.1, 5.9])\n",
    "int_array = float_array.astype('i')\n",
    "\n",
    "print(\"Original float array:\", float_array)\n",
    "print(\"Converted integer array:\", int_array)\n",
    "print(\"Data type of converted array:\", int_array.dtype)\n"
   ]
  },
  {
   "cell_type": "code",
   "execution_count": 5,
   "id": "aa37a072",
   "metadata": {},
   "outputs": [
    {
     "name": "stdout",
     "output_type": "stream",
     "text": [
      "[1 2 3 4 5]\n",
      "int32\n"
     ]
    }
   ],
   "source": [
    "#Create an array with data type 4 bytes integer\n",
    "\n",
    "import numpy as np\n",
    "\n",
    "arr = np.array([1, 2, 3, 4, 5], dtype=np.int32)\n",
    "\n",
    "print(arr)\n",
    "print(arr.dtype) \n"
   ]
  },
  {
   "cell_type": "code",
   "execution_count": null,
   "id": "9d987cd0",
   "metadata": {},
   "outputs": [],
   "source": []
  }
 ],
 "metadata": {
  "kernelspec": {
   "display_name": "Python 3 (ipykernel)",
   "language": "python",
   "name": "python3"
  },
  "language_info": {
   "codemirror_mode": {
    "name": "ipython",
    "version": 3
   },
   "file_extension": ".py",
   "mimetype": "text/x-python",
   "name": "python",
   "nbconvert_exporter": "python",
   "pygments_lexer": "ipython3",
   "version": "3.11.5"
  }
 },
 "nbformat": 4,
 "nbformat_minor": 5
}
