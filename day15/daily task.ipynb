{
 "cells": [
  {
   "cell_type": "code",
   "execution_count": 5,
   "id": "7fca27f2",
   "metadata": {},
   "outputs": [
    {
     "name": "stdout",
     "output_type": "stream",
     "text": [
      "Original array: [100   2   3   4   5]\n",
      "Copied array: [1 2 3 4 5]\n"
     ]
    }
   ],
   "source": [
    "# 1. Make a copy, change the original array, and display both arrays\n",
    "\n",
    "import numpy as np\n",
    "# Create a sample NumPy array\n",
    "arr = np.array([1, 2, 3, 4, 5])\n",
    "copied_arr = arr.copy()\n",
    "# Modify the original array\n",
    "arr[0] = 100\n",
    "\n",
    "print(\"Original array:\", arr)\n",
    "print(\"Copied array:\", copied_arr)\n",
    "\n",
    "     "
   ]
  },
  {
   "cell_type": "code",
   "execution_count": 6,
   "id": "78151938",
   "metadata": {},
   "outputs": [
    {
     "name": "stdout",
     "output_type": "stream",
     "text": [
      "Original array: [100   2   3   4   5]\n",
      "View of the array: [100   2   3   4   5]\n"
     ]
    }
   ],
   "source": [
    "# 2. Make a view, change the original array, and display both arrays\n",
    "\n",
    "import numpy as np\n",
    "\n",
    "arr = np.array([1, 2, 3, 4, 5])\n",
    "\n",
    "#view of the array\n",
    "view_arr = arr.view()\n",
    "\n",
    "# Modify the original array\n",
    "arr[0] = 100\n",
    "\n",
    "print(\"Original array:\", arr)\n",
    "print(\"View of the array:\", view_arr)\n"
   ]
  },
  {
   "cell_type": "code",
   "execution_count": 7,
   "id": "5931eefd",
   "metadata": {},
   "outputs": [
    {
     "name": "stdout",
     "output_type": "stream",
     "text": [
      "Original array: [200   2   3   4   5]\n",
      "View of the array: [200   2   3   4   5]\n"
     ]
    }
   ],
   "source": [
    " # 3. Make a view, change the view, and display both arrays\n",
    "    \n",
    "import numpy as np\n",
    "\n",
    "arr = np.array([1, 2, 3, 4, 5])\n",
    "\n",
    "#view of the array\n",
    "view_arr = arr.view()\n",
    "\n",
    "# Modify the view\n",
    "view_arr[0] = 200\n",
    "\n",
    "print(\"Original array:\", arr)\n",
    "print(\"View of the array:\", view_arr)\n"
   ]
  },
  {
   "cell_type": "code",
   "execution_count": 8,
   "id": "2f7b4cba",
   "metadata": {},
   "outputs": [
    {
     "name": "stdout",
     "output_type": "stream",
     "text": [
      "Original array base: None\n",
      "View of array base: [1 2 3 4 5]\n"
     ]
    }
   ],
   "source": [
    "# 4. Print the value of the base attribute to check if an array owns it's data or not\n",
    "\n",
    "import numpy as np\n",
    "\n",
    "arr = np.array([1, 2, 3, 4, 5])\n",
    "\n",
    "# Check the base attribute.\n",
    "print(\"Original array base:\", arr.base)\n",
    "\n",
    "#view of the array\n",
    "view_arr = arr.view()\n",
    "\n",
    "print(\"View of array base:\", view_arr.base)\n"
   ]
  },
  {
   "cell_type": "code",
   "execution_count": null,
   "id": "8e3fc442",
   "metadata": {},
   "outputs": [],
   "source": []
  }
 ],
 "metadata": {
  "kernelspec": {
   "display_name": "Python 3 (ipykernel)",
   "language": "python",
   "name": "python3"
  },
  "language_info": {
   "codemirror_mode": {
    "name": "ipython",
    "version": 3
   },
   "file_extension": ".py",
   "mimetype": "text/x-python",
   "name": "python",
   "nbconvert_exporter": "python",
   "pygments_lexer": "ipython3",
   "version": "3.11.5"
  }
 },
 "nbformat": 4,
 "nbformat_minor": 5
}
