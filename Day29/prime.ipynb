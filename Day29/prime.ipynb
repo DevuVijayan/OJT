{
 "cells": [
  {
   "cell_type": "code",
   "execution_count": 4,
   "id": "145de42e-2d2a-4729-8af4-77b8bd9233d7",
   "metadata": {},
   "outputs": [
    {
     "name": "stdin",
     "output_type": "stream",
     "text": [
      "Enter a Number :  7\n"
     ]
    },
    {
     "name": "stdout",
     "output_type": "stream",
     "text": [
      "7 is a prime number..\n"
     ]
    }
   ],
   "source": [
    "\n",
    "#prime\n",
    "num = int(input(\"Enter a Number : \")) \n",
    "i=2; \n",
    "while(i<num): \n",
    " if(num%i==0):\n",
    "  print(\"%d is not a prime number..\"%num)\n",
    "  break\n",
    " i=i+1\n",
    "else:\n",
    " print(\"%d is a prime number..\"%num)"
   ]
  },
  {
   "cell_type": "code",
   "execution_count": 5,
   "id": "c1639a95-10a7-4e4c-b985-e99f9c2f439b",
   "metadata": {},
   "outputs": [
    {
     "name": "stdout",
     "output_type": "stream",
     "text": [
      "This is our list  ['C', 'C++', 'Java', 'C#']\n",
      "List Item 1 is C\n",
      "List Item 2 is C++\n",
      "List Item 3 is Java\n",
      "List Item 4 is C#\n"
     ]
    }
   ],
   "source": [
    "#iterate a list using for loop\n",
    "\n",
    "list=['C','C++','Java','C#'] \n",
    "print(\"This is our list \",list) \n",
    "i=1 \n",
    "for val in list: \n",
    " print(\"List Item\",i,\"is\",val) \n",
    " i=i+1"
   ]
  },
  {
   "cell_type": "code",
   "execution_count": 10,
   "id": "800bcd3a-cd2a-4d8e-acdd-7215a198695b",
   "metadata": {},
   "outputs": [
    {
     "name": "stdout",
     "output_type": "stream",
     "text": [
      "This is our Tuple  ('C', 'C++', 'Java', 'C#', 'Python')\n",
      "Tuple Item 1 is C\n",
      "Tuple Item 2 is C++\n",
      "Tuple Item 3 is Java\n",
      "Tuple Item 4 is C#\n",
      "Tuple Item 5 is Python\n"
     ]
    }
   ],
   "source": [
    "#iterate a tuple using for loop\n",
    "tuple=('C','C++','Java','C#','Python') \n",
    "print(\"This is our Tuple \",tuple) \n",
    "i=1 \n",
    "for val in tuple: \n",
    " print(\"Tuple Item\",i,\"is\",val) \n",
    " i=i+1 \n",
    "\n",
    "\n"
   ]
  },
  {
   "cell_type": "code",
   "execution_count": 9,
   "id": "eaf3ba88-e01f-4259-8304-d217e0394586",
   "metadata": {},
   "outputs": [
    {
     "name": "stdout",
     "output_type": "stream",
     "text": [
      "M\n",
      "a\n",
      "c\n",
      "h\n",
      "i\n",
      "n\n",
      "e\n",
      " \n",
      "L\n",
      "e\n",
      "a\n",
      "r\n",
      "n\n",
      "i\n",
      "n\n",
      "g\n"
     ]
    }
   ],
   "source": [
    "#ITERATE A STRING USING FOR LOOP\n",
    "string=\"Machine Learning\" \n",
    "for val in string: \n",
    " print(val) \n",
    "\n"
   ]
  },
  {
   "cell_type": "code",
   "execution_count": null,
   "id": "032a64f9-bfcc-4331-960f-ddd9b280145f",
   "metadata": {},
   "outputs": [],
   "source": []
  }
 ],
 "metadata": {
  "kernelspec": {
   "display_name": "Python 3 (ipykernel)",
   "language": "python",
   "name": "python3"
  },
  "language_info": {
   "codemirror_mode": {
    "name": "ipython",
    "version": 3
   },
   "file_extension": ".py",
   "mimetype": "text/x-python",
   "name": "python",
   "nbconvert_exporter": "python",
   "pygments_lexer": "ipython3",
   "version": "3.11.5"
  }
 },
 "nbformat": 4,
 "nbformat_minor": 5
}
