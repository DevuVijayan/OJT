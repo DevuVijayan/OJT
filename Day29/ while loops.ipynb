{
 "cells": [
  {
   "cell_type": "code",
   "execution_count": 2,
   "id": "f663896c-7464-4c9c-9bec-43e4bbeebd87",
   "metadata": {},
   "outputs": [
    {
     "name": "stdout",
     "output_type": "stream",
     "text": [
      "2\n",
      "3\n",
      "4\n",
      "5\n",
      "6\n",
      "7\n"
     ]
    }
   ],
   "source": [
    "#while loop\n",
    "i=2\n",
    "while i < 8:\n",
    "    print(i)\n",
    "    i += 1"
   ]
  },
  {
   "cell_type": "code",
   "execution_count": 5,
   "id": "64b49b96-8112-4d06-8505-8d92e23a12b6",
   "metadata": {},
   "outputs": [
    {
     "name": "stdout",
     "output_type": "stream",
     "text": [
      "THE SUM IS  20\n"
     ]
    }
   ],
   "source": [
    "#program to add natural numbers upto\n",
    "#add =1+2+3+...n\n",
    "n=20\n",
    "add=0\n",
    "i = 1\n",
    "while i<=n:\n",
    "    add = add+1\n",
    "    i = i+1\n",
    "print(\"THE SUM IS \",add)"
   ]
  },
  {
   "cell_type": "code",
   "execution_count": null,
   "id": "95ef5ea7-1562-4ede-b730-88adb3d5ab46",
   "metadata": {},
   "outputs": [],
   "source": []
  }
 ],
 "metadata": {
  "kernelspec": {
   "display_name": "Python 3 (ipykernel)",
   "language": "python",
   "name": "python3"
  },
  "language_info": {
   "codemirror_mode": {
    "name": "ipython",
    "version": 3
   },
   "file_extension": ".py",
   "mimetype": "text/x-python",
   "name": "python",
   "nbconvert_exporter": "python",
   "pygments_lexer": "ipython3",
   "version": "3.11.5"
  }
 },
 "nbformat": 4,
 "nbformat_minor": 5
}
