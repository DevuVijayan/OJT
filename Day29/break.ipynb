{
 "cells": [
  {
   "cell_type": "code",
   "execution_count": 1,
   "id": "321b3aa7-e986-4879-b610-11059905974b",
   "metadata": {},
   "outputs": [
    {
     "name": "stdout",
     "output_type": "stream",
     "text": [
      "9\n",
      "8\n",
      "7\n",
      "6\n"
     ]
    }
   ],
   "source": [
    "a=10\n",
    "while a>0:\n",
    "    a-=1\n",
    "    if (a!=5):\n",
    "        print(a)\n",
    "    else:\n",
    "        break"
   ]
  },
  {
   "cell_type": "code",
   "execution_count": 9,
   "id": "39eabbfe-d271-477b-954c-a67519681245",
   "metadata": {},
   "outputs": [
    {
     "name": "stdout",
     "output_type": "stream",
     "text": [
      "p\n",
      "y\n",
      "t\n",
      "Loop ends\n"
     ]
    }
   ],
   "source": [
    "for a in \"python\":\n",
    "    if a ==\"h\":\n",
    "        break\n",
    "    print(a)\n",
    "print(\"Loop ends\")"
   ]
  },
  {
   "cell_type": "code",
   "execution_count": null,
   "id": "8a9f41a2-ce6b-4d23-9308-6228332e6168",
   "metadata": {},
   "outputs": [],
   "source": []
  }
 ],
 "metadata": {
  "kernelspec": {
   "display_name": "Python 3 (ipykernel)",
   "language": "python",
   "name": "python3"
  },
  "language_info": {
   "codemirror_mode": {
    "name": "ipython",
    "version": 3
   },
   "file_extension": ".py",
   "mimetype": "text/x-python",
   "name": "python",
   "nbconvert_exporter": "python",
   "pygments_lexer": "ipython3",
   "version": "3.11.5"
  }
 },
 "nbformat": 4,
 "nbformat_minor": 5
}
