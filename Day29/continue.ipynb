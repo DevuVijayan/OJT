{
 "cells": [
  {
   "cell_type": "code",
   "execution_count": null,
   "id": "38d50a94-d74c-4c2c-aefe-fea4a6b2c2c0",
   "metadata": {},
   "outputs": [],
   "source": [
    "#continue statement\n",
    "a=10\n",
    "while a>0:\n",
    "    a-=1\n",
    "    if(a!=5):\n",
    "        print(a)\n",
    "    else:\n",
    "        continue "
   ]
  },
  {
   "cell_type": "code",
   "execution_count": null,
   "id": "e9a50d51-33e7-4c49-8620-755001393ed7",
   "metadata": {},
   "outputs": [],
   "source": [
    "for a in \"Python\":\n",
    "    if a == \"h\":\n",
    "        continue\n",
    "    print(a)\n",
    "print(\"Loop ends\")\n"
   ]
  },
  {
   "cell_type": "code",
   "execution_count": null,
   "id": "42e55383-b477-4506-8a2e-4a432d2c774c",
   "metadata": {},
   "outputs": [],
   "source": [
    "# #PASS\n",
    "# v1={'p','a','s','s'}\n",
    "# for v in v1:\n",
    "#     pass\n",
    "\n",
    "# Printing table of given number.\n",
    "num=int(input(\"Enter a Number : \")) \n",
    "i=1 \n",
    "while(i<=10): \n",
    " print(num*i) \n",
    " i=i+1 "
   ]
  },
  {
   "cell_type": "code",
   "execution_count": null,
   "id": "9d79aa87-1ae7-476a-a0b2-5252359258e4",
   "metadata": {},
   "outputs": [],
   "source": [
    "\n",
    "#Printing reverse of a number.\n",
    "num = int(input(\"Enter a Number : \")) \n",
    "rev = 0 \n",
    "while(num != 0): \n",
    " rem = num % 10 \n",
    " rev = rev * 10 + rem \n",
    " num = int(num / 10) \n",
    "print(rev)"
   ]
  }
 ],
 "metadata": {
  "kernelspec": {
   "display_name": "Python 3 (ipykernel)",
   "language": "python",
   "name": "python3"
  },
  "language_info": {
   "codemirror_mode": {
    "name": "ipython",
    "version": 3
   },
   "file_extension": ".py",
   "mimetype": "text/x-python",
   "name": "python",
   "nbconvert_exporter": "python",
   "pygments_lexer": "ipython3",
   "version": "3.11.5"
  }
 },
 "nbformat": 4,
 "nbformat_minor": 5
}
