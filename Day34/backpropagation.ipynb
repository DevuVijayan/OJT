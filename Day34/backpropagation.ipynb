{
 "cells": [
  {
   "cell_type": "code",
   "execution_count": 1,
   "id": "53e487a9-a437-42af-a205-c46247730977",
   "metadata": {},
   "outputs": [],
   "source": [
    "import numpy as np"
   ]
  },
  {
   "cell_type": "code",
   "execution_count": 2,
   "id": "dc90d2cb-5ced-4b1d-bd35-e1ba6d5e9767",
   "metadata": {},
   "outputs": [],
   "source": [
    "# Sigmoid activation function\n",
    "def sigmoid(x):\n",
    "    return 1 / (1 + np.exp(-x))"
   ]
  },
  {
   "cell_type": "code",
   "execution_count": 3,
   "id": "727affe8-e79a-438d-b634-b5bfa0b95bf5",
   "metadata": {},
   "outputs": [],
   "source": [
    "# Input data (X) and actual output (y)\n",
    "X = np.array([[0.05, 0.10]])\n",
    "y = np.array([[0.01, 0.99]])"
   ]
  },
  {
   "cell_type": "code",
   "execution_count": 4,
   "id": "fe64f850-e1fa-4eb8-a183-b27cd804bfc3",
   "metadata": {},
   "outputs": [],
   "source": [
    "# Initialize weights and biases randomly\n",
    "w1 = np.random.rand(2, 2)  # Weights between input and hidden layer\n",
    "w2 = np.random.rand(2, 2)  # Weights between hidden and output layer\n",
    "b1 = np.random.rand(1, 2)  # Bias for hidden layer\n",
    "b2 = np.random.rand(1, 2)  # Bias for output layer\n"
   ]
  },
  {
   "cell_type": "code",
   "execution_count": 5,
   "id": "abf5b0ef-1e8c-4dbd-9aa3-612836ba6086",
   "metadata": {},
   "outputs": [],
   "source": [
    "# Learning rate\n",
    "lr = 0.5"
   ]
  },
  {
   "cell_type": "code",
   "execution_count": 6,
   "id": "8d482082-26ee-4398-8707-0f3d73450068",
   "metadata": {},
   "outputs": [],
   "source": [
    "# Training for 1 epoch (for simplicity)\n",
    "# Forward pass: input to hidden layer\n",
    "z1 = np.dot(X, w1) + b1\n",
    "a1 = sigmoid(z1)\n"
   ]
  },
  {
   "cell_type": "code",
   "execution_count": 7,
   "id": "04af1108-4945-4235-b02e-cb02512618ab",
   "metadata": {},
   "outputs": [],
   "source": [
    "# Forward pass: hidden layer to output layer\n",
    "z2 = np.dot(a1, w2) + b2\n",
    "a2 = sigmoid(z2)\n"
   ]
  },
  {
   "cell_type": "code",
   "execution_count": 8,
   "id": "9fe15cb1-924a-47e9-8cbd-367aeaba1895",
   "metadata": {},
   "outputs": [
    {
     "name": "stdout",
     "output_type": "stream",
     "text": [
      "Loss before backpropagation: 0.3574617985780008\n"
     ]
    }
   ],
   "source": [
    "# Calculate loss (Mean Squared Error)\n",
    "loss = np.mean((a2 - y) ** 2)\n",
    "print(f'Loss before backpropagation: {loss}')\n"
   ]
  },
  {
   "cell_type": "code",
   "execution_count": 9,
   "id": "3ec302ae-9e2f-4ce8-a673-af240a92abf0",
   "metadata": {},
   "outputs": [],
   "source": [
    "# Backward pass\n",
    "# Error at output layer\n",
    "error_output = a2 - y"
   ]
  },
  {
   "cell_type": "code",
   "execution_count": 10,
   "id": "bef30edc-978b-4ba2-89bb-b33e60880451",
   "metadata": {},
   "outputs": [],
   "source": [
    "# Gradient of the loss with respect to output (a2)\n",
    "delta_output = error_output * a2 * (1 - a2) "
   ]
  },
  {
   "cell_type": "code",
   "execution_count": 11,
   "id": "5cc73ed8-7d0c-4110-a111-49cb5f3577fb",
   "metadata": {},
   "outputs": [],
   "source": [
    "# Error at hidden layer\n",
    "error_hidden = np.dot(delta_output, w2.T)"
   ]
  },
  {
   "cell_type": "code",
   "execution_count": 12,
   "id": "cc2e5a3d-6485-4426-8978-c00d45986c63",
   "metadata": {},
   "outputs": [],
   "source": [
    "# Gradient of the loss with respect to hidden layer (a1)\n",
    "delta_hidden = error_hidden * a1 * (1 - a1)"
   ]
  },
  {
   "cell_type": "code",
   "execution_count": 15,
   "id": "2359b2b9-c367-4836-bda0-c3d460610143",
   "metadata": {},
   "outputs": [],
   "source": [
    "# Update weights and biases\n",
    "w2 -= lr * np.dot(a1.T, delta_output)\n",
    "b2 -= lr * delta_output\n",
    "w1 -= lr * np.dot(X.T, delta_hidden)\n",
    "b1 -= lr * delta_hidden"
   ]
  },
  {
   "cell_type": "code",
   "execution_count": 16,
   "id": "587ce93e-8873-439b-9c67-56a9ea842a9d",
   "metadata": {},
   "outputs": [],
   "source": [
    "# Forward pass again to check new loss\n",
    "z1 = np.dot(X, w1) + b1\n",
    "a1 = sigmoid(z1)\n",
    "z2 = np.dot(a1, w2) + b2\n",
    "a2 = sigmoid(z2)"
   ]
  },
  {
   "cell_type": "code",
   "execution_count": 17,
   "id": "a42174ff-2ed4-40b0-802a-b9b0e999f2f2",
   "metadata": {},
   "outputs": [
    {
     "name": "stdout",
     "output_type": "stream",
     "text": [
      "Loss after backpropagation: 0.3219165695510633\n"
     ]
    }
   ],
   "source": [
    "loss = np.mean((a2 - y) ** 2)\n",
    "print(f'Loss after backpropagation: {loss}')"
   ]
  },
  {
   "cell_type": "code",
   "execution_count": null,
   "id": "d620e6b8-c252-4346-badb-cd7a85b12afc",
   "metadata": {},
   "outputs": [],
   "source": []
  }
 ],
 "metadata": {
  "kernelspec": {
   "display_name": "Python 3 (ipykernel)",
   "language": "python",
   "name": "python3"
  },
  "language_info": {
   "codemirror_mode": {
    "name": "ipython",
    "version": 3
   },
   "file_extension": ".py",
   "mimetype": "text/x-python",
   "name": "python",
   "nbconvert_exporter": "python",
   "pygments_lexer": "ipython3",
   "version": "3.11.5"
  }
 },
 "nbformat": 4,
 "nbformat_minor": 5
}
