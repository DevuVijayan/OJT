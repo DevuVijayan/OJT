{
 "cells": [
  {
   "cell_type": "code",
   "execution_count": 1,
   "id": "fab9c24c-6adb-47a6-be22-66dcc67c30a6",
   "metadata": {},
   "outputs": [],
   "source": [
    "#n dimensional \n"
   ]
  },
  {
   "cell_type": "code",
   "execution_count": 2,
   "id": "21ba2d57-4e3e-40d4-87c2-542e0e9353c2",
   "metadata": {},
   "outputs": [
    {
     "name": "stdout",
     "output_type": "stream",
     "text": [
      "1D array :  [1 2 3 4 5]\n"
     ]
    }
   ],
   "source": [
    "import numpy as np\n",
    "#create an with 1_D array\n",
    "array_1D = np.array([1,2,3,4,5])\n",
    "print(\"1D array : \",array_1D)"
   ]
  },
  {
   "cell_type": "code",
   "execution_count": 3,
   "id": "42f30464-c24b-44a0-8ca2-605a26f45532",
   "metadata": {},
   "outputs": [
    {
     "name": "stdout",
     "output_type": "stream",
     "text": [
      "[[1 2 3]\n",
      " [4 5 6]]\n"
     ]
    }
   ],
   "source": [
    "#Create a 2d Array\n",
    "array_2d = np.array([[1,2,3],[4,5,6]])\n",
    "print(array_2d)"
   ]
  },
  {
   "cell_type": "code",
   "execution_count": 4,
   "id": "1ff7895d-1451-4a52-8650-8f9797b58d77",
   "metadata": {},
   "outputs": [],
   "source": [
    "#Create a 3d Array"
   ]
  },
  {
   "cell_type": "code",
   "execution_count": 5,
   "id": "c5e888ec-27f0-44c0-af81-ac4fe6a6bbbe",
   "metadata": {},
   "outputs": [
    {
     "name": "stdout",
     "output_type": "stream",
     "text": [
      "[[[1 2 3]\n",
      "  [4 5 6]\n",
      "  [7 8 9]]]\n"
     ]
    }
   ],
   "source": [
    "array_3d=np.array([[[1,2,3,],[4,5,6],[7,8,9]]])\n",
    "print(array_3d)"
   ]
  },
  {
   "cell_type": "code",
   "execution_count": 6,
   "id": "80129083-844f-4f1e-be00-8a5d5c4ab40a",
   "metadata": {},
   "outputs": [],
   "source": [
    "#create  an array with ones"
   ]
  },
  {
   "cell_type": "code",
   "execution_count": 7,
   "id": "162619e3-d598-4a69-94b9-c07c04d876c4",
   "metadata": {},
   "outputs": [
    {
     "name": "stdout",
     "output_type": "stream",
     "text": [
      "Array with ones: [[1. 1. 1. 1.]\n",
      " [1. 1. 1. 1.]]\n"
     ]
    }
   ],
   "source": [
    "array_ones = np.ones((2,4))\n",
    "print(\"Array with ones:\",array_ones)"
   ]
  },
  {
   "cell_type": "code",
   "execution_count": 8,
   "id": "d26d1c22-b34c-4d23-869d-eb05daf5be93",
   "metadata": {},
   "outputs": [
    {
     "name": "stdout",
     "output_type": "stream",
     "text": [
      "Array with zeros : [[0. 0. 0.]\n",
      " [0. 0. 0.]\n",
      " [0. 0. 0.]]\n"
     ]
    }
   ],
   "source": [
    "# create an array with zeros\n",
    "array_zeros = np.zeros((3,3))\n",
    "print(\"Array with zeros :\",array_zeros)"
   ]
  },
  {
   "cell_type": "code",
   "execution_count": 9,
   "id": "0a41942e-5f52-4930-8280-220ede9e1ee3",
   "metadata": {},
   "outputs": [
    {
     "name": "stdout",
     "output_type": "stream",
     "text": [
      "array with a range : [0 1 2 3 4 5 6 7 8 9]\n"
     ]
    }
   ],
   "source": [
    "#create an array with a particular range\n",
    "array_range = np.arange(10)\n",
    "print(\"array with a range :\",array_range)"
   ]
  },
  {
   "cell_type": "code",
   "execution_count": null,
   "id": "516cbe75-a1a3-4c0d-8ba8-4ee0bf110321",
   "metadata": {},
   "outputs": [],
   "source": []
  }
 ],
 "metadata": {
  "kernelspec": {
   "display_name": "Python 3 (ipykernel)",
   "language": "python",
   "name": "python3"
  },
  "language_info": {
   "codemirror_mode": {
    "name": "ipython",
    "version": 3
   },
   "file_extension": ".py",
   "mimetype": "text/x-python",
   "name": "python",
   "nbconvert_exporter": "python",
   "pygments_lexer": "ipython3",
   "version": "3.11.5"
  }
 },
 "nbformat": 4,
 "nbformat_minor": 5
}
