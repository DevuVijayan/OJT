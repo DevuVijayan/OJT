{
 "cells": [
  {
   "cell_type": "code",
   "execution_count": 1,
   "id": "80e8f577-72a5-4150-9560-5f2a83249d0e",
   "metadata": {},
   "outputs": [
    {
     "name": "stdout",
     "output_type": "stream",
     "text": [
      "Number of non-zero values: 4\n"
     ]
    }
   ],
   "source": [
    "import numpy as np\n",
    "\n",
    "# Example array\n",
    "arr = np.array([0, 1, 2, 0, 3, 0, 4])\n",
    "\n",
    "# Count non-zero values\n",
    "non_zero_count = np.count_nonzero(arr)\n",
    "print(f\"Number of non-zero values: {non_zero_count}\")\n"
   ]
  },
  {
   "cell_type": "code",
   "execution_count": 2,
   "id": "0608ee0b-9476-4f89-9720-0aec14898e34",
   "metadata": {},
   "outputs": [
    {
     "name": "stdout",
     "output_type": "stream",
     "text": [
      "Empty Array:\n",
      " [[2.22520627e-307 1.50199531e-307 5.11798224e-307]\n",
      " [3.44897992e-307 4.22795269e-307 9.34609790e-307]\n",
      " [6.23037657e-307 1.29061142e-306 6.23040373e-307]]\n",
      "Full Array:\n",
      " [[7 7 7]\n",
      " [7 7 7]\n",
      " [7 7 7]]\n"
     ]
    }
   ],
   "source": [
    "# Empty array of shape (3, 3)\n",
    "empty_array = np.empty((3, 3))\n",
    "print(\"Empty Array:\\n\", empty_array)\n",
    "\n",
    "# Full array of shape (3, 3) with all values as 7\n",
    "full_array = np.full((3, 3), 7)\n",
    "print(\"Full Array:\\n\", full_array)\n"
   ]
  },
  {
   "cell_type": "code",
   "execution_count": 3,
   "id": "1c28ff59-4c7f-45d6-945a-6a4d2d019f2e",
   "metadata": {},
   "outputs": [
    {
     "name": "stdout",
     "output_type": "stream",
     "text": [
      "Number of rows: 3, Number of columns: 3\n"
     ]
    }
   ],
   "source": [
    "# Example matrix\n",
    "matrix = np.array([[1, 2, 3], [4, 5, 6], [7, 8, 9]])\n",
    "\n",
    "# Number of rows and columns\n",
    "rows, cols = matrix.shape\n",
    "print(f\"Number of rows: {rows}, Number of columns: {cols}\")\n"
   ]
  },
  {
   "cell_type": "code",
   "execution_count": 5,
   "id": "6b298fb0-f0ad-49c2-9fb1-b141c37c2731",
   "metadata": {},
   "outputs": [
    {
     "name": "stdout",
     "output_type": "stream",
     "text": [
      "Sum of values in the matrix: 45\n"
     ]
    }
   ],
   "source": [
    "# Sum of all values in the matrix\n",
    "matrix_sum = np.sum(matrix)\n",
    "print(f\"Sum of values in the matrix: {matrix_sum}\")\n"
   ]
  },
  {
   "cell_type": "code",
   "execution_count": 4,
   "id": "7a9e2dc7-c1f5-427f-a44f-5f9a87cbb51a",
   "metadata": {},
   "outputs": [
    {
     "name": "stdout",
     "output_type": "stream",
     "text": [
      "Sum of diagonal elements (3x3): 15\n",
      "Sum of diagonal elements (4x4): 34\n"
     ]
    }
   ],
   "source": [
    "# Example 3x3 matrix\n",
    "matrix_3x3 = np.array([[1, 2, 3], [4, 5, 6], [7, 8, 9]])\n",
    "# Example 4x4 matrix\n",
    "matrix_4x4 = np.array([[1, 2, 3, 4], [5, 6, 7, 8], [9, 10, 11, 12], [13, 14, 15, 16]])\n",
    "\n",
    "# Sum of diagonal elements\n",
    "diagonal_sum_3x3 = np.trace(matrix_3x3)\n",
    "diagonal_sum_4x4 = np.trace(matrix_4x4)\n",
    "\n",
    "print(f\"Sum of diagonal elements (3x3): {diagonal_sum_3x3}\")\n",
    "print(f\"Sum of diagonal elements (4x4): {diagonal_sum_4x4}\")\n"
   ]
  },
  {
   "cell_type": "code",
   "execution_count": 6,
   "id": "3d0a10a1-6cdd-4aca-8c14-cf9927d7d548",
   "metadata": {},
   "outputs": [
    {
     "name": "stdout",
     "output_type": "stream",
     "text": [
      "Inverse of the matrix:\n",
      " [[-2.   1. ]\n",
      " [ 1.5 -0.5]]\n"
     ]
    }
   ],
   "source": [
    "# Example matrix\n",
    "matrix_to_inverse = np.array([[1, 2], [3, 4]])\n",
    "\n",
    "# Inverse of the matrix\n",
    "matrix_inverse = np.linalg.inv(matrix_to_inverse)\n",
    "print(\"Inverse of the matrix:\\n\", matrix_inverse)\n"
   ]
  },
  {
   "cell_type": "code",
   "execution_count": 7,
   "id": "b037be31-f881-47cd-8290-9423d317be7c",
   "metadata": {},
   "outputs": [
    {
     "name": "stdout",
     "output_type": "stream",
     "text": [
      "Matrix Multiplication Result:\n",
      " [[19 22]\n",
      " [43 50]]\n"
     ]
    }
   ],
   "source": [
    "# Example matrices\n",
    "matrix1 = np.array([[1, 2], [3, 4]])\n",
    "matrix2 = np.array([[5, 6], [7, 8]])\n",
    "\n",
    "# Matrix multiplication\n",
    "product = matrix1 @ matrix2\n",
    "# or\n",
    "product = np.matmul(matrix1, matrix2)\n",
    "print(\"Matrix Multiplication Result:\\n\", product)\n"
   ]
  },
  {
   "cell_type": "code",
   "execution_count": 8,
   "id": "8bad0848-7549-4f49-889b-36c72d2f241e",
   "metadata": {},
   "outputs": [
    {
     "name": "stdout",
     "output_type": "stream",
     "text": [
      "Maximum value: 9\n",
      "Minimum value: 1\n"
     ]
    }
   ],
   "source": [
    "# Maximum and minimum values\n",
    "max_value = np.max(matrix)\n",
    "min_value = np.min(matrix)\n",
    "\n",
    "print(f\"Maximum value: {max_value}\")\n",
    "print(f\"Minimum value: {min_value}\")\n"
   ]
  },
  {
   "cell_type": "code",
   "execution_count": 9,
   "id": "2035c7dc-019e-438d-a012-4f3e08154db5",
   "metadata": {},
   "outputs": [
    {
     "name": "stdout",
     "output_type": "stream",
     "text": [
      "Matrix Addition Result:\n",
      " [[ 6  8]\n",
      " [10 12]]\n",
      "Matrix Subtraction Result:\n",
      " [[-4 -4]\n",
      " [-4 -4]]\n"
     ]
    }
   ],
   "source": [
    "# Example matrices\n",
    "matrix1 = np.array([[1, 2], [3, 4]])\n",
    "matrix2 = np.array([[5, 6], [7, 8]])\n",
    "\n",
    "# Addition\n",
    "matrix_sum = matrix1 + matrix2\n",
    "print(\"Matrix Addition Result:\\n\", matrix_sum)\n",
    "\n",
    "# Subtraction\n",
    "matrix_diff = matrix1 - matrix2\n",
    "print(\"Matrix Subtraction Result:\\n\", matrix_diff)\n"
   ]
  },
  {
   "cell_type": "code",
   "execution_count": 10,
   "id": "c50a0b3d-322f-4f75-8337-848466d3d0a8",
   "metadata": {},
   "outputs": [
    {
     "name": "stdout",
     "output_type": "stream",
     "text": [
      "Frequency of unique values:\n",
      " {1: 1, 2: 2, 3: 3, 4: 4}\n"
     ]
    }
   ],
   "source": [
    "# Example array\n",
    "array = np.array([1, 2, 2, 3, 3, 3, 4, 4, 4, 4])\n",
    "\n",
    "# Frequency of unique values\n",
    "unique_values, counts = np.unique(array, return_counts=True)\n",
    "frequency = dict(zip(unique_values, counts))\n",
    "print(\"Frequency of unique values:\\n\", frequency)\n"
   ]
  },
  {
   "cell_type": "code",
   "execution_count": null,
   "id": "4d31d795-c157-42b3-8aaf-80251de3e3c6",
   "metadata": {},
   "outputs": [],
   "source": []
  }
 ],
 "metadata": {
  "kernelspec": {
   "display_name": "Python 3 (ipykernel)",
   "language": "python",
   "name": "python3"
  },
  "language_info": {
   "codemirror_mode": {
    "name": "ipython",
    "version": 3
   },
   "file_extension": ".py",
   "mimetype": "text/x-python",
   "name": "python",
   "nbconvert_exporter": "python",
   "pygments_lexer": "ipython3",
   "version": "3.11.5"
  }
 },
 "nbformat": 4,
 "nbformat_minor": 5
}
