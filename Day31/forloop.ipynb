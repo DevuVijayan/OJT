{
 "cells": [
  {
   "cell_type": "code",
   "execution_count": 1,
   "id": "353767c7-3de6-4769-9669-45aa9f617760",
   "metadata": {},
   "outputs": [
    {
     "name": "stdout",
     "output_type": "stream",
     "text": [
      "this is our list {'apple', 'banana', 'guava', 'grapes'}\n",
      "apple\n",
      "banana\n",
      "guava\n",
      "grapes\n"
     ]
    }
   ],
   "source": [
    "#python for loop\n",
    "\n",
    "list={'apple','guava','banana','grapes'}\n",
    "print('this is our list',list)\n",
    "\n",
    "for i in list:\n",
    "    print(i)\n"
   ]
  },
  {
   "cell_type": "code",
   "execution_count": 2,
   "id": "b0ce4fb5-6091-4af5-b322-745b2be975f5",
   "metadata": {},
   "outputs": [
    {
     "name": "stdout",
     "output_type": "stream",
     "text": [
      "this is our tuple ('carrot', 'tomato', 'pototo', 'eggplant', 'onion')\n",
      "carrot\n",
      "tomato\n",
      "pototo\n",
      "eggplant\n",
      "onion\n",
      "I\n",
      "n\n",
      "d\n",
      "i\n",
      "a\n"
     ]
    }
   ],
   "source": [
    "#for loop with tuple\n",
    "tuple=('carrot','tomato','pototo','eggplant','onion')\n",
    "print('this is our tuple',tuple)\n",
    "for i in tuple:\n",
    "    print(i)\n",
    "    \n",
    "#for loop with string\n",
    "string='India'\n",
    "for i in string:\n",
    "    print(i)"
   ]
  },
  {
   "cell_type": "code",
   "execution_count": 3,
   "id": "588b6729-a522-4e3a-bb0b-3c81ff5c8fcc",
   "metadata": {},
   "outputs": [
    {
     "name": "stdout",
     "output_type": "stream",
     "text": [
      "0\n",
      "1\n",
      "2\n",
      "3\n",
      "4\n",
      "5\n",
      "6\n",
      "7\n",
      "8\n",
      "9\n",
      "10\n",
      "2\n",
      "3\n",
      "4\n",
      "5\n",
      "6\n",
      "7\n",
      "8\n",
      "9\n",
      "10\n",
      "2\n",
      "4\n",
      "6\n",
      "8\n"
     ]
    }
   ],
   "source": [
    "#range([start],[end],[step])\n",
    "\n",
    "for i in range(11):\n",
    "    print(i)\n",
    "    \n",
    "    \n",
    "for i in range(2,11):\n",
    "    print(i)\n",
    "    \n",
    "for i in range(2,10,2):\n",
    "    print(i)\n"
   ]
  },
  {
   "cell_type": "code",
   "execution_count": 4,
   "id": "8c72dbac-91ab-4f30-ab65-5399ca32991b",
   "metadata": {},
   "outputs": [
    {
     "name": "stdin",
     "output_type": "stream",
     "text": [
      "enter a number :  2\n"
     ]
    },
    {
     "name": "stdout",
     "output_type": "stream",
     "text": [
      "2 is a prime number\n"
     ]
    }
   ],
   "source": [
    "#for loop with else condition\n",
    "#here we are checking whether the given number is prime or not\n",
    "num=int(input(\"enter a number : \"))\n",
    "for i in range(2,num):\n",
    "    if (num%i!=0):\n",
    "        print('%d is not a prime number'%num)\n",
    "        break\n",
    "else:\n",
    "        print('%d is a prime number'%num)"
   ]
  },
  {
   "cell_type": "code",
   "execution_count": 5,
   "id": "905b1ebe-ae32-465d-a533-c49b6d7f6a54",
   "metadata": {},
   "outputs": [
    {
     "name": "stdout",
     "output_type": "stream",
     "text": [
      "  ***  \n",
      " *   * \n",
      " *   * \n",
      " ***** \n",
      " *   * \n",
      " *   * \n",
      " *   * \n"
     ]
    }
   ],
   "source": [
    "# Nested Loop\n",
    "# Define the size of the pattern\n",
    "size = 7\n",
    "# Nested loops to iterate through rows and columns\n",
    "for row in range(size):\n",
    "    for col in range(size):\n",
    "        # Conditions to determine whether to print '*' or ' '\n",
    "        if (col == 1 or col == 5) and row != 0:\n",
    "            print(\"*\", end=\"\")\n",
    "        elif (row == 0 or row == 3) and (1 < col < 5):\n",
    "            print(\"*\", end=\"\")\n",
    "        else:\n",
    "            print(\" \", end=\"\")\n",
    "    \n",
    "    # Move to the next line after each row is printed\n",
    "    print()"
   ]
  },
  {
   "cell_type": "code",
   "execution_count": null,
   "id": "a932b6cf-c303-4e62-948e-978b3d90d433",
   "metadata": {},
   "outputs": [],
   "source": []
  }
 ],
 "metadata": {
  "kernelspec": {
   "display_name": "Python 3 (ipykernel)",
   "language": "python",
   "name": "python3"
  },
  "language_info": {
   "codemirror_mode": {
    "name": "ipython",
    "version": 3
   },
   "file_extension": ".py",
   "mimetype": "text/x-python",
   "name": "python",
   "nbconvert_exporter": "python",
   "pygments_lexer": "ipython3",
   "version": "3.11.5"
  }
 },
 "nbformat": 4,
 "nbformat_minor": 5
}
